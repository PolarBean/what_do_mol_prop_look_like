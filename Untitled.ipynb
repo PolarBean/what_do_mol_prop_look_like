{
 "cells": [
  {
   "cell_type": "markdown",
   "metadata": {},
   "source": [
    "# eat up all the smiles files and spit out a random sample of 500k"
   ]
  },
  {
   "cell_type": "code",
   "execution_count": 15,
   "metadata": {},
   "outputs": [],
   "source": [
    "import os\n",
    "import pandas as pd\n",
    "import tqdm\n",
    "\n",
    "filenames = []\n",
    "\n",
    "for r, d, f in os.walk('./smilesfiles/'):\n",
    "    for file in f:\n",
    "        if file.endswith(\".smi\"):\n",
    "            filenames.append(os.path.join(r, file))"
   ]
  },
  {
   "cell_type": "code",
   "execution_count": 17,
   "metadata": {
    "scrolled": true
   },
   "outputs": [
    {
     "name": "stderr",
     "output_type": "stream",
     "text": [
      "/Users/lmar3213/miniconda3/envs/lew_conda/lib/python3.7/site-packages/ipykernel_launcher.py:3: TqdmDeprecationWarning: This function will be removed in tqdm==5.0.0\n",
      "Please use `tqdm.notebook.tqdm` instead of `tqdm.tqdm_notebook`\n",
      "  This is separate from the ipykernel package so we can avoid doing imports until\n"
     ]
    },
    {
     "data": {
      "application/vnd.jupyter.widget-view+json": {
       "model_id": "a6f21714f74643e590a7e4baf26bcf73",
       "version_major": 2,
       "version_minor": 0
      },
      "text/plain": [
       "HBox(children=(FloatProgress(value=0.0, max=960.0), HTML(value='')))"
      ]
     },
     "metadata": {},
     "output_type": "display_data"
    },
    {
     "name": "stdout",
     "output_type": "stream",
     "text": [
      "\n"
     ]
    }
   ],
   "source": [
    "df = pd.DataFrame(columns=['smiles', 'zinc_id'])\n",
    "\n",
    "for fname in tqdm.tqdm_notebook(filenames):\n",
    "    _ = pd.read_csv(fname, sep=' ')\n",
    "    df = pd.concat([df, _])"
   ]
  },
  {
   "cell_type": "code",
   "execution_count": 33,
   "metadata": {},
   "outputs": [],
   "source": [
    "df.sample(int(5e5)).to_csv('./sample.smifi',index=False)"
   ]
  },
  {
   "cell_type": "code",
   "execution_count": 36,
   "metadata": {},
   "outputs": [],
   "source": [
    "df2 = pd.read_csv('./sample.smifi')"
   ]
  },
  {
   "cell_type": "code",
   "execution_count": 37,
   "metadata": {},
   "outputs": [
    {
     "data": {
      "text/html": [
       "<div>\n",
       "<style scoped>\n",
       "    .dataframe tbody tr th:only-of-type {\n",
       "        vertical-align: middle;\n",
       "    }\n",
       "\n",
       "    .dataframe tbody tr th {\n",
       "        vertical-align: top;\n",
       "    }\n",
       "\n",
       "    .dataframe thead th {\n",
       "        text-align: right;\n",
       "    }\n",
       "</style>\n",
       "<table border=\"1\" class=\"dataframe\">\n",
       "  <thead>\n",
       "    <tr style=\"text-align: right;\">\n",
       "      <th></th>\n",
       "      <th>smiles</th>\n",
       "      <th>zinc_id</th>\n",
       "    </tr>\n",
       "  </thead>\n",
       "  <tbody>\n",
       "    <tr>\n",
       "      <th>0</th>\n",
       "      <td>COC(=O)[C@H](C)N1C(=O)S/C(=C/c2ccccc2OCc2ccccc...</td>\n",
       "      <td>ZINC000006850657</td>\n",
       "    </tr>\n",
       "    <tr>\n",
       "      <th>1</th>\n",
       "      <td>CCc1ccc(OCC(=O)NCCCc2ccc(Cl)cc2)cc1</td>\n",
       "      <td>ZINC000218955194</td>\n",
       "    </tr>\n",
       "    <tr>\n",
       "      <th>2</th>\n",
       "      <td>CCOC(=O)C1=C(C)N=c2s/c(=C\\c3ccc(OC(=O)c4cccc(C...</td>\n",
       "      <td>ZINC000002148617</td>\n",
       "    </tr>\n",
       "    <tr>\n",
       "      <th>3</th>\n",
       "      <td>CC(C)(C)[C@H]1CCc2c(sc(/N=C\\c3ccc(OCc4ccc(C(=O...</td>\n",
       "      <td>ZINC000409077376</td>\n",
       "    </tr>\n",
       "    <tr>\n",
       "      <th>4</th>\n",
       "      <td>Cc1ccc(S(=O)(=O)N(CC(=O)Nc2ccccc2C(=O)N2CCCCCC...</td>\n",
       "      <td>ZINC000408606443</td>\n",
       "    </tr>\n",
       "    <tr>\n",
       "      <th>...</th>\n",
       "      <td>...</td>\n",
       "      <td>...</td>\n",
       "    </tr>\n",
       "    <tr>\n",
       "      <th>499995</th>\n",
       "      <td>CCOC(=O)[C@H](CN[C@@H](C)[C@@H]1CCOC1)Cc1ccccc1</td>\n",
       "      <td>ZINC000685944835</td>\n",
       "    </tr>\n",
       "    <tr>\n",
       "      <th>499996</th>\n",
       "      <td>C[C@H](NC(=O)CSc1nc(O)cc(=O)[nH]1)c1ccccc1</td>\n",
       "      <td>ZINC000017086445</td>\n",
       "    </tr>\n",
       "    <tr>\n",
       "      <th>499997</th>\n",
       "      <td>CN(CC(F)(F)F)C(=O)c1ccsc1</td>\n",
       "      <td>ZINC000124497822</td>\n",
       "    </tr>\n",
       "    <tr>\n",
       "      <th>499998</th>\n",
       "      <td>COc1ccc(/C=N/NC(=S)Nc2ccc(C(C)C)cc2)cc1OCc1ccccc1</td>\n",
       "      <td>ZINC000003266168</td>\n",
       "    </tr>\n",
       "    <tr>\n",
       "      <th>499999</th>\n",
       "      <td>Cc1ccc(S(=O)(=O)Oc2c(Cl)cc(/C=N/Nc3ccc([N+](=O...</td>\n",
       "      <td>ZINC000408898975</td>\n",
       "    </tr>\n",
       "  </tbody>\n",
       "</table>\n",
       "<p>500000 rows × 2 columns</p>\n",
       "</div>"
      ],
      "text/plain": [
       "                                                   smiles           zinc_id\n",
       "0       COC(=O)[C@H](C)N1C(=O)S/C(=C/c2ccccc2OCc2ccccc...  ZINC000006850657\n",
       "1                     CCc1ccc(OCC(=O)NCCCc2ccc(Cl)cc2)cc1  ZINC000218955194\n",
       "2       CCOC(=O)C1=C(C)N=c2s/c(=C\\c3ccc(OC(=O)c4cccc(C...  ZINC000002148617\n",
       "3       CC(C)(C)[C@H]1CCc2c(sc(/N=C\\c3ccc(OCc4ccc(C(=O...  ZINC000409077376\n",
       "4       Cc1ccc(S(=O)(=O)N(CC(=O)Nc2ccccc2C(=O)N2CCCCCC...  ZINC000408606443\n",
       "...                                                   ...               ...\n",
       "499995    CCOC(=O)[C@H](CN[C@@H](C)[C@@H]1CCOC1)Cc1ccccc1  ZINC000685944835\n",
       "499996         C[C@H](NC(=O)CSc1nc(O)cc(=O)[nH]1)c1ccccc1  ZINC000017086445\n",
       "499997                          CN(CC(F)(F)F)C(=O)c1ccsc1  ZINC000124497822\n",
       "499998  COc1ccc(/C=N/NC(=S)Nc2ccc(C(C)C)cc2)cc1OCc1ccccc1  ZINC000003266168\n",
       "499999  Cc1ccc(S(=O)(=O)Oc2c(Cl)cc(/C=N/Nc3ccc([N+](=O...  ZINC000408898975\n",
       "\n",
       "[500000 rows x 2 columns]"
      ]
     },
     "execution_count": 37,
     "metadata": {},
     "output_type": "execute_result"
    }
   ],
   "source": [
    "df2"
   ]
  },
  {
   "cell_type": "markdown",
   "metadata": {},
   "source": [
    "# plot MW (for example:"
   ]
  },
  {
   "cell_type": "code",
   "execution_count": 50,
   "metadata": {},
   "outputs": [
    {
     "name": "stderr",
     "output_type": "stream",
     "text": [
      "/Users/lmar3213/miniconda3/envs/lew_conda/lib/python3.7/site-packages/ipykernel_launcher.py:8: TqdmDeprecationWarning: This function will be removed in tqdm==5.0.0\n",
      "Please use `tqdm.notebook.tqdm` instead of `tqdm.tqdm_notebook`\n",
      "  \n"
     ]
    },
    {
     "data": {
      "application/vnd.jupyter.widget-view+json": {
       "model_id": "d641963dfadb45ef9bb59f04535cffed",
       "version_major": 2,
       "version_minor": 0
      },
      "text/plain": [
       "HBox(children=(FloatProgress(value=0.0, max=500000.0), HTML(value='')))"
      ]
     },
     "metadata": {},
     "output_type": "display_data"
    },
    {
     "name": "stdout",
     "output_type": "stream",
     "text": [
      "\n"
     ]
    }
   ],
   "source": [
    "from rdkit import Chem\n",
    "from rdkit.Chem import rdMolDescriptors\n",
    "import matplotlib.pyplot as plt\n",
    "\n",
    "\n",
    "weights = []\n",
    "logps = []\n",
    "for smi in tqdm.tqdm_notebook(df2['smiles']):\n",
    "    m = Chem.MolFromSmiles(smi)\n",
    "    #mw = rdMolDescriptors.CalcExactMolWt(m)\n",
    "    logp = rdMolDescriptors.CalcCrippenDescriptors(m)[0]\n",
    "    \n",
    "    #weights.append(w)\n",
    "    logps.append(logp)\n",
    "    \n",
    "#df2['weights'] = weights"
   ]
  },
  {
   "cell_type": "code",
   "execution_count": 51,
   "metadata": {},
   "outputs": [],
   "source": [
    "df2['clogp'] = logps\n"
   ]
  },
  {
   "cell_type": "code",
   "execution_count": 52,
   "metadata": {},
   "outputs": [
    {
     "data": {
      "text/plain": [
       "<AxesSubplot:>"
      ]
     },
     "execution_count": 52,
     "metadata": {},
     "output_type": "execute_result"
    },
    {
     "data": {
      "image/png": "[encoded data removed]",
      "text/plain": [
       "<Figure size 432x288 with 1 Axes>"
      ]
     },
     "metadata": {
      "needs_background": "light"
     },
     "output_type": "display_data"
    }
   ],
   "source": [
    "df2['weights'].hist(bins=100)"
   ]
  },
  {
   "cell_type": "code",
   "execution_count": 55,
   "metadata": {},
   "outputs": [
    {
     "data": {
      "text/plain": [
       "<AxesSubplot:>"
      ]
     },
     "execution_count": 55,
     "metadata": {},
     "output_type": "execute_result"
    },
    {
     "data": {
      "image/png": "[encoded data removed]",
      "text/plain": [
       "<Figure size 432x288 with 1 Axes>"
      ]
     },
     "metadata": {
      "needs_background": "light"
     },
     "output_type": "display_data"
    }
   ],
   "source": [
    "df2['clogp'].hist(bins=100)"
   ]
  },
  {
   "cell_type": "code",
   "execution_count": 68,
   "metadata": {},
   "outputs": [],
   "source": [
    "df2.to_csv('mydf.csv')"
   ]
  },
  {
   "cell_type": "code",
   "execution_count": 64,
   "metadata": {},
   "outputs": [],
   "source": [
    "df2.columns = ['smiles', 'zinc_id', 'mw', 'clogp']"
   ]
  },
  {
   "cell_type": "code",
   "execution_count": 69,
   "metadata": {},
   "outputs": [
    {
     "data": {
      "text/html": [
       "<div>\n",
       "<style scoped>\n",
       "    .dataframe tbody tr th:only-of-type {\n",
       "        vertical-align: middle;\n",
       "    }\n",
       "\n",
       "    .dataframe tbody tr th {\n",
       "        vertical-align: top;\n",
       "    }\n",
       "\n",
       "    .dataframe thead th {\n",
       "        text-align: right;\n",
       "    }\n",
       "</style>\n",
       "<table border=\"1\" class=\"dataframe\">\n",
       "  <thead>\n",
       "    <tr style=\"text-align: right;\">\n",
       "      <th></th>\n",
       "      <th>Unnamed: 0</th>\n",
       "      <th>smiles</th>\n",
       "      <th>zinc_id</th>\n",
       "      <th>mw</th>\n",
       "      <th>clogp</th>\n",
       "    </tr>\n",
       "  </thead>\n",
       "  <tbody>\n",
       "    <tr>\n",
       "      <th>0</th>\n",
       "      <td>0</td>\n",
       "      <td>COC(=O)[C@H](C)N1C(=O)S/C(=C/c2ccccc2OCc2ccccc...</td>\n",
       "      <td>ZINC000006850657</td>\n",
       "      <td>397.098394</td>\n",
       "      <td>3.86340</td>\n",
       "    </tr>\n",
       "    <tr>\n",
       "      <th>1</th>\n",
       "      <td>1</td>\n",
       "      <td>CCc1ccc(OCC(=O)NCCCc2ccc(Cl)cc2)cc1</td>\n",
       "      <td>ZINC000218955194</td>\n",
       "      <td>331.133907</td>\n",
       "      <td>4.03020</td>\n",
       "    </tr>\n",
       "    <tr>\n",
       "      <th>2</th>\n",
       "      <td>2</td>\n",
       "      <td>CCOC(=O)C1=C(C)N=c2s/c(=C\\c3ccc(OC(=O)c4cccc(C...</td>\n",
       "      <td>ZINC000002148617</td>\n",
       "      <td>568.166808</td>\n",
       "      <td>4.33452</td>\n",
       "    </tr>\n",
       "    <tr>\n",
       "      <th>3</th>\n",
       "      <td>3</td>\n",
       "      <td>CC(C)(C)[C@H]1CCc2c(sc(/N=C\\c3ccc(OCc4ccc(C(=O...</td>\n",
       "      <td>ZINC000409077376</td>\n",
       "      <td>648.129355</td>\n",
       "      <td>8.21240</td>\n",
       "    </tr>\n",
       "    <tr>\n",
       "      <th>4</th>\n",
       "      <td>4</td>\n",
       "      <td>Cc1ccc(S(=O)(=O)N(CC(=O)Nc2ccccc2C(=O)N2CCCCCC...</td>\n",
       "      <td>ZINC000408606443</td>\n",
       "      <td>607.151940</td>\n",
       "      <td>6.51742</td>\n",
       "    </tr>\n",
       "    <tr>\n",
       "      <th>...</th>\n",
       "      <td>...</td>\n",
       "      <td>...</td>\n",
       "      <td>...</td>\n",
       "      <td>...</td>\n",
       "      <td>...</td>\n",
       "    </tr>\n",
       "    <tr>\n",
       "      <th>499995</th>\n",
       "      <td>499995</td>\n",
       "      <td>CCOC(=O)[C@H](CN[C@@H](C)[C@@H]1CCOC1)Cc1ccccc1</td>\n",
       "      <td>ZINC000685944835</td>\n",
       "      <td>305.199094</td>\n",
       "      <td>2.42300</td>\n",
       "    </tr>\n",
       "    <tr>\n",
       "      <th>499996</th>\n",
       "      <td>499996</td>\n",
       "      <td>C[C@H](NC(=O)CSc1nc(O)cc(=O)[nH]1)c1ccccc1</td>\n",
       "      <td>ZINC000017086445</td>\n",
       "      <td>305.083412</td>\n",
       "      <td>1.44500</td>\n",
       "    </tr>\n",
       "    <tr>\n",
       "      <th>499997</th>\n",
       "      <td>499997</td>\n",
       "      <td>CN(CC(F)(F)F)C(=O)c1ccsc1</td>\n",
       "      <td>ZINC000124497822</td>\n",
       "      <td>223.027870</td>\n",
       "      <td>2.38240</td>\n",
       "    </tr>\n",
       "    <tr>\n",
       "      <th>499998</th>\n",
       "      <td>499998</td>\n",
       "      <td>COc1ccc(/C=N/NC(=S)Nc2ccc(C(C)C)cc2)cc1OCc1ccccc1</td>\n",
       "      <td>ZINC000003266168</td>\n",
       "      <td>433.182398</td>\n",
       "      <td>5.71810</td>\n",
       "    </tr>\n",
       "    <tr>\n",
       "      <th>499999</th>\n",
       "      <td>499999</td>\n",
       "      <td>Cc1ccc(S(=O)(=O)Oc2c(Cl)cc(/C=N/Nc3ccc([N+](=O...</td>\n",
       "      <td>ZINC000408898975</td>\n",
       "      <td>480.006196</td>\n",
       "      <td>4.81872</td>\n",
       "    </tr>\n",
       "  </tbody>\n",
       "</table>\n",
       "<p>500000 rows × 5 columns</p>\n",
       "</div>"
      ],
      "text/plain": [
       "        Unnamed: 0                                             smiles  \\\n",
       "0                0  COC(=O)[C@H](C)N1C(=O)S/C(=C/c2ccccc2OCc2ccccc...   \n",
       "1                1                CCc1ccc(OCC(=O)NCCCc2ccc(Cl)cc2)cc1   \n",
       "2                2  CCOC(=O)C1=C(C)N=c2s/c(=C\\c3ccc(OC(=O)c4cccc(C...   \n",
       "3                3  CC(C)(C)[C@H]1CCc2c(sc(/N=C\\c3ccc(OCc4ccc(C(=O...   \n",
       "4                4  Cc1ccc(S(=O)(=O)N(CC(=O)Nc2ccccc2C(=O)N2CCCCCC...   \n",
       "...            ...                                                ...   \n",
       "499995      499995    CCOC(=O)[C@H](CN[C@@H](C)[C@@H]1CCOC1)Cc1ccccc1   \n",
       "499996      499996         C[C@H](NC(=O)CSc1nc(O)cc(=O)[nH]1)c1ccccc1   \n",
       "499997      499997                          CN(CC(F)(F)F)C(=O)c1ccsc1   \n",
       "499998      499998  COc1ccc(/C=N/NC(=S)Nc2ccc(C(C)C)cc2)cc1OCc1ccccc1   \n",
       "499999      499999  Cc1ccc(S(=O)(=O)Oc2c(Cl)cc(/C=N/Nc3ccc([N+](=O...   \n",
       "\n",
       "                 zinc_id          mw    clogp  \n",
       "0       ZINC000006850657  397.098394  3.86340  \n",
       "1       ZINC000218955194  331.133907  4.03020  \n",
       "2       ZINC000002148617  568.166808  4.33452  \n",
       "3       ZINC000409077376  648.129355  8.21240  \n",
       "4       ZINC000408606443  607.151940  6.51742  \n",
       "...                  ...         ...      ...  \n",
       "499995  ZINC000685944835  305.199094  2.42300  \n",
       "499996  ZINC000017086445  305.083412  1.44500  \n",
       "499997  ZINC000124497822  223.027870  2.38240  \n",
       "499998  ZINC000003266168  433.182398  5.71810  \n",
       "499999  ZINC000408898975  480.006196  4.81872  \n",
       "\n",
       "[500000 rows x 5 columns]"
      ]
     },
     "execution_count": 69,
     "metadata": {},
     "output_type": "execute_result"
    }
   ],
   "source": [
    "pd.read_csv('mydf.csv')"
   ]
  },
  {
   "cell_type": "code",
   "execution_count": null,
   "metadata": {},
   "outputs": [],
   "source": []
  }
 ],
 "metadata": {
  "kernelspec": {
   "display_name": "Python 3",
   "language": "python",
   "name": "python3"
  },
  "language_info": {
   "codemirror_mode": {
    "name": "ipython",
    "version": 3
   },
   "file_extension": ".py",
   "mimetype": "text/x-python",
   "name": "python",
   "nbconvert_exporter": "python",
   "pygments_lexer": "ipython3",
   "version": "3.7.8"
  }
 },
 "nbformat": 4,
 "nbformat_minor": 4
}
